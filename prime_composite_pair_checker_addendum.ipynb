{
 "cells": [
  {
   "cell_type": "code",
   "execution_count": 1,
   "metadata": {
    "scrolled": false
   },
   "outputs": [],
   "source": [
    "#the whole thing will give you prime-prime pairs or prime-composite pairs\n",
    "\n",
    "#we start by creating list of prime#s\n",
    "n=20708 #this can be any even #\n",
    "list_p=[] #list of primes\n",
    "for k in range(2, n):\n",
    "    if k > 2: \n",
    "        for i in range(2, k): \n",
    "            if (k % i) == 0: #exclude any composite\n",
    "                break\n",
    "        else: \n",
    "            list_p.append(k) #append any primes to list\n",
    "            \n",
    "#the code below gives a list of prime-comp pairs and prime-prime pairs \n",
    "\n",
    "list_pc=[] #prime-composite pair\n",
    "list_pp=[] #prime-prime pairs\n",
    "for p in list_p:\n",
    "    for i in range (2, n-p):\n",
    "        if ((n-p)% i ==0):\n",
    "            list_pc.append((p, n-p))\n",
    "            break\n",
    "    else:\n",
    "        list_pp.append((p, n-p))"
   ]
  },
  {
   "cell_type": "markdown",
   "metadata": {},
   "source": [
    "### Print the prime factors of n"
   ]
  },
  {
   "cell_type": "code",
   "execution_count": 2,
   "metadata": {},
   "outputs": [
    {
     "data": {
      "text/plain": [
       "[31, 167]"
      ]
     },
     "execution_count": 2,
     "metadata": {},
     "output_type": "execute_result"
    }
   ],
   "source": [
    "#start with list of primes, list_p\n",
    "list_pf=[]\n",
    "for p in list_p:\n",
    "    if n%p ==0:\n",
    "        list_pf.append(p)\n",
    "list_pf"
   ]
  },
  {
   "cell_type": "markdown",
   "metadata": {},
   "source": [
    "### Is n of the form n=2p ?"
   ]
  },
  {
   "cell_type": "code",
   "execution_count": 3,
   "metadata": {},
   "outputs": [
    {
     "data": {
      "text/plain": [
       "[]"
      ]
     },
     "execution_count": 3,
     "metadata": {},
     "output_type": "execute_result"
    }
   ],
   "source": [
    "#if the following list returns nonempty, that means n is of the form n = 2p, where p is the element of the list\n",
    "#we start by creating a list of primes of the primeprime pairs:\n",
    "list_p1=[p[0] for p in list_pp]\n",
    "list_pdivide=[]\n",
    "for p in list_p1:\n",
    "    if n%p == 0:\n",
    "        list_pdivide.append(p)\n",
    "list_pdivide"
   ]
  },
  {
   "cell_type": "markdown",
   "metadata": {},
   "source": [
    "### Print p-c pairs for which p divides c"
   ]
  },
  {
   "cell_type": "code",
   "execution_count": 4,
   "metadata": {},
   "outputs": [
    {
     "data": {
      "text/plain": [
       "[(31, 20677), (167, 20541)]"
      ]
     },
     "execution_count": 4,
     "metadata": {},
     "output_type": "execute_result"
    }
   ],
   "source": [
    "list_p2=[p[0] for p in list_pc]\n",
    "list_c1=[c[1] for c in list_pc]\n",
    "list_no=[]\n",
    "for c in list_c1:\n",
    "    for p in list_p2: \n",
    "        if p+c==n:\n",
    "            if c%p==0:\n",
    "                list_no.append((p,c))\n",
    "list_no"
   ]
  },
  {
   "cell_type": "code",
   "execution_count": null,
   "metadata": {},
   "outputs": [],
   "source": []
  }
 ],
 "metadata": {
  "kernelspec": {
   "display_name": "Python 3",
   "language": "python",
   "name": "python3"
  },
  "language_info": {
   "codemirror_mode": {
    "name": "ipython",
    "version": 3
   },
   "file_extension": ".py",
   "mimetype": "text/x-python",
   "name": "python",
   "nbconvert_exporter": "python",
   "pygments_lexer": "ipython3",
   "version": "3.8.3"
  }
 },
 "nbformat": 4,
 "nbformat_minor": 2
}
