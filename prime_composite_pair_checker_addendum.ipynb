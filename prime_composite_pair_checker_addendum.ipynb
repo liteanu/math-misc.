{
 "cells": [
  {
   "cell_type": "code",
   "execution_count": 1,
   "metadata": {
    "scrolled": false
   },
   "outputs": [
    {
     "data": {
      "text/plain": [
       "[(11, 1511),\n",
       " (23, 1499),\n",
       " (29, 1493),\n",
       " (41, 1481),\n",
       " (71, 1451),\n",
       " (83, 1439),\n",
       " (89, 1433),\n",
       " (113, 1409),\n",
       " (149, 1373),\n",
       " (233, 1289),\n",
       " (239, 1283),\n",
       " (263, 1259),\n",
       " (293, 1229),\n",
       " (359, 1163),\n",
       " (419, 1103),\n",
       " (431, 1091),\n",
       " (461, 1061),\n",
       " (491, 1031),\n",
       " (503, 1019),\n",
       " (509, 1013),\n",
       " (569, 953),\n",
       " (593, 929),\n",
       " (641, 881),\n",
       " (659, 863),\n",
       " (683, 839),\n",
       " (701, 821),\n",
       " (761, 761),\n",
       " (821, 701),\n",
       " (839, 683),\n",
       " (863, 659),\n",
       " (881, 641),\n",
       " (929, 593),\n",
       " (953, 569),\n",
       " (1013, 509),\n",
       " (1019, 503),\n",
       " (1031, 491),\n",
       " (1061, 461),\n",
       " (1091, 431),\n",
       " (1103, 419),\n",
       " (1163, 359),\n",
       " (1229, 293),\n",
       " (1259, 263),\n",
       " (1283, 239),\n",
       " (1289, 233),\n",
       " (1373, 149),\n",
       " (1409, 113),\n",
       " (1433, 89),\n",
       " (1439, 83),\n",
       " (1451, 71),\n",
       " (1481, 41),\n",
       " (1493, 29),\n",
       " (1499, 23),\n",
       " (1511, 11)]"
      ]
     },
     "execution_count": 1,
     "metadata": {},
     "output_type": "execute_result"
    }
   ],
   "source": [
    "#the whole thing will give you prime-prime pairs or prime-composite pairs\n",
    "\n",
    "#we start by creating list of prime#s\n",
    "n=1522 #this can be any even #\n",
    "list_p=[] #list of primes\n",
    "for k in range(2, n):\n",
    "    if k > 2: \n",
    "        for i in range(2, k): \n",
    "            if (k % i) == 0: #exclude any composite\n",
    "                break\n",
    "        else: \n",
    "            list_p.append(k) #append any primes to list\n",
    "            \n",
    "#the code below gives a list of prime-comp pairs and prime-prime pairs \n",
    "\n",
    "list_pc=[] #prime-composite pair\n",
    "list_pp=[] #prime-prime pairs\n",
    "for p in list_p:\n",
    "    for i in range (2, n-p):\n",
    "        if ((n-p)% i ==0):\n",
    "            list_pc.append((p, n-p))\n",
    "            break\n",
    "    else:\n",
    "        list_pp.append((p, n-p))\n",
    "list_pp"
   ]
  },
  {
   "cell_type": "code",
   "execution_count": 2,
   "metadata": {},
   "outputs": [
    {
     "data": {
      "text/plain": [
       "[761]"
      ]
     },
     "execution_count": 2,
     "metadata": {},
     "output_type": "execute_result"
    }
   ],
   "source": [
    "#if the following list returns nonempty, that means n is of the form n = 2p, where p is the element of the list\n",
    "#we start by creating a list of primes of the primeprime pairs:\n",
    "list_p=[p[0] for p in list_pp]\n",
    "list_pdivide=[]\n",
    "for p in list_p:\n",
    "    if n%p == 0:\n",
    "        list_pdivide.append(p)\n",
    "list_pdivide"
   ]
  },
  {
   "cell_type": "code",
   "execution_count": null,
   "metadata": {},
   "outputs": [],
   "source": []
  }
 ],
 "metadata": {
  "kernelspec": {
   "display_name": "Python 3",
   "language": "python",
   "name": "python3"
  },
  "language_info": {
   "codemirror_mode": {
    "name": "ipython",
    "version": 3
   },
   "file_extension": ".py",
   "mimetype": "text/x-python",
   "name": "python",
   "nbconvert_exporter": "python",
   "pygments_lexer": "ipython3",
   "version": "3.8.3"
  }
 },
 "nbformat": 4,
 "nbformat_minor": 2
}
