{
 "cells": [
  {
   "cell_type": "code",
   "execution_count": 1,
   "metadata": {},
   "outputs": [
    {
     "data": {
      "text/plain": [
       "[(53, 47), (59, 41), (71, 29), (83, 17), (89, 11), (97, 3)]"
      ]
     },
     "execution_count": 1,
     "metadata": {},
     "output_type": "execute_result"
    }
   ],
   "source": [
    "#updated and improved: no longer prints the (1, n-1), no repeats\n",
    "\n",
    "#we start by creating list of prime#s\n",
    "n=100 #this can be any even #\n",
    "list_p=[] #list of primes\n",
    "for k in range(2, n):\n",
    "    if k > 2: \n",
    "        for i in range(2, k): \n",
    "            if (k % i) == 0: #exclude any composite\n",
    "                break\n",
    "        else: \n",
    "            list_p.append(k) #append any primes to list\n",
    "            \n",
    "#the code below gives a list of prime-comp pairs and prime-prime pairs \n",
    "\n",
    "list_pc=[] #prime-composite pair\n",
    "list_pp=[] #prime-prime pairs\n",
    "for p in list_p:\n",
    "    if n-p != 1:\n",
    "        if p > n-p:\n",
    "            for i in range (2, n-p):\n",
    "                if ((n-p)% i ==0):\n",
    "                    list_pc.append((p, n-p))\n",
    "                    break\n",
    "            else:\n",
    "                list_pp.append((p, n-p))\n",
    "list_pp"
   ]
  },
  {
   "cell_type": "code",
   "execution_count": null,
   "metadata": {},
   "outputs": [],
   "source": []
  }
 ],
 "metadata": {
  "kernelspec": {
   "display_name": "Python 3",
   "language": "python",
   "name": "python3"
  },
  "language_info": {
   "codemirror_mode": {
    "name": "ipython",
    "version": 3
   },
   "file_extension": ".py",
   "mimetype": "text/x-python",
   "name": "python",
   "nbconvert_exporter": "python",
   "pygments_lexer": "ipython3",
   "version": "3.8.3"
  }
 },
 "nbformat": 4,
 "nbformat_minor": 4
}
