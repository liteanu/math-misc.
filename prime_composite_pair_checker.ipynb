{
 "cells": [
  {
   "cell_type": "code",
   "execution_count": 2,
   "metadata": {},
   "outputs": [
    {
     "data": {
      "text/plain": [
       "[(5, 95),\n",
       " (7, 93),\n",
       " (13, 87),\n",
       " (19, 81),\n",
       " (23, 77),\n",
       " (31, 69),\n",
       " (37, 63),\n",
       " (43, 57),\n",
       " (61, 39),\n",
       " (67, 33),\n",
       " (73, 27),\n",
       " (79, 21)]"
      ]
     },
     "execution_count": 2,
     "metadata": {},
     "output_type": "execute_result"
    }
   ],
   "source": [
    "#the whole thing will give you prime-prime pairs or prime-composite pairs\n",
    "\n",
    "#we start by creating list of prime#s\n",
    "n=100 #this can be any even #\n",
    "list_p=[] #list of primes\n",
    "for k in range(2, n):\n",
    "    if k > 2: \n",
    "        for i in range(2, k): \n",
    "            if (k % i) == 0: #exclude any composite\n",
    "                break\n",
    "        else: \n",
    "            list_p.append(k) #append any primes to list\n",
    "            \n",
    "#the code below gives a list of prime-comp pairs and prime-prime pairs \n",
    "\n",
    "list_pc=[] #prime-composite pair\n",
    "list_pp=[] #prime-prime pairs\n",
    "for p in list_p:\n",
    "    for i in range (2, n-p):\n",
    "        if ((n-p)% i ==0):\n",
    "            list_pc.append((p, n-p))\n",
    "            break\n",
    "    else:\n",
    "        list_pp.append((p, n-p))\n",
    "\n",
    "\n",
    "list_pc"
   ]
  },
  {
   "cell_type": "code",
   "execution_count": null,
   "metadata": {},
   "outputs": [],
   "source": []
  }
 ],
 "metadata": {
  "kernelspec": {
   "display_name": "Python 3",
   "language": "python",
   "name": "python3"
  },
  "language_info": {
   "codemirror_mode": {
    "name": "ipython",
    "version": 3
   },
   "file_extension": ".py",
   "mimetype": "text/x-python",
   "name": "python",
   "nbconvert_exporter": "python",
   "pygments_lexer": "ipython3",
   "version": "3.7.4"
  }
 },
 "nbformat": 4,
 "nbformat_minor": 2
}
